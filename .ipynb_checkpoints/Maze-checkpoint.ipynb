{
 "cells": [
  {
   "cell_type": "markdown",
   "id": "b45a6a10",
   "metadata": {},
   "source": [
    "### Connexion linux pour git : ```ssh -l labe0015 linux.ad-urca.univ-reims.fr```"
   ]
  },
  {
   "cell_type": "code",
   "execution_count": 145,
   "id": "b89e9811",
   "metadata": {},
   "outputs": [],
   "source": [
    "from random import*"
   ]
  },
  {
   "cell_type": "markdown",
   "id": "fb366353",
   "metadata": {},
   "source": [
    "# Classe Maze"
   ]
  },
  {
   "cell_type": "code",
   "execution_count": 194,
   "id": "4ae1ebde",
   "metadata": {},
   "outputs": [],
   "source": [
    "class Maze:\n",
    "    \"\"\"\n",
    "    Classe Labyrinthe\n",
    "    Représentation sous forme de graphe non-orienté\n",
    "    dont chaque sommet est une cellule (un tuple (l,c))\n",
    "    et dont la structure est représentée par un dictionnaire\n",
    "      - clés : sommets\n",
    "      - valeurs : ensemble des sommets voisins accessibles\n",
    "    \"\"\"\n",
    "    def __init__(self, height, width):\n",
    "        \"\"\"\n",
    "        Constructeur d'un labyrinthe de height cellules de haut \n",
    "        et de width cellules de large \n",
    "        Les voisinages sont initialisés à des ensembles vides\n",
    "        Remarque : dans le labyrinthe créé, chaque cellule est complètement emmurée\n",
    "        \"\"\"\n",
    "        self.height    = height\n",
    "        self.width     = width\n",
    "        self.neighbors = {(i,j): set() for i in range(height) for j in range (width)}\n",
    "\n",
    "    def info(self):\n",
    "        \"\"\"\n",
    "        **NE PAS MODIFIER CETTE MÉTHODE**\n",
    "        Affichage des attributs d'un objet 'Maze' (fonction utile pour deboguer)\n",
    "        Retour:\n",
    "            chaîne (string): description textuelle des attributs de l'objet\n",
    "        \"\"\"\n",
    "        txt = \"**Informations sur le labyrinthe**\\n\"\n",
    "        txt += f\"- Dimensions de la grille : {self.height} x {self.width}\\n\"\n",
    "        txt += \"- Voisinages :\\n\"\n",
    "        txt += str(self.neighbors)+\"\\n\"\n",
    "        valid = True\n",
    "        for c1 in {(i, j) for i in range(self.height) for j in range(self.width)}:\n",
    "            for c2 in self.neighbors[c1]:\n",
    "                if c1 not in self.neighbors[c2]:\n",
    "                    valid = False\n",
    "                    break\n",
    "            else:\n",
    "                continue\n",
    "            break\n",
    "        txt += \"- Structure cohérente\\n\" if valid else f\"- Structure incohérente : {c1} X {c2}\\n\"\n",
    "        return txt\n",
    "\n",
    "    def __str__(self):\n",
    "        \"\"\"\n",
    "        **NE PAS MODIFIER CETTE MÉTHODE**\n",
    "        Représentation textuelle d'un objet Maze (en utilisant des caractères ascii)\n",
    "        Retour:\n",
    "             chaîne (str) : chaîne de caractères représentant le labyrinthe\n",
    "        \"\"\"\n",
    "        txt = \"\"\n",
    "        # Première ligne\n",
    "        txt += \"┏\"\n",
    "        for j in range(self.width-1):\n",
    "            txt += \"━━━┳\"\n",
    "        txt += \"━━━┓\\n\"\n",
    "        txt += \"┃\"\n",
    "        for j in range(self.width-1):\n",
    "            txt += \"   ┃\" if (0,j+1) not in self.neighbors[(0,j)] else \"    \"\n",
    "        txt += \"   ┃\\n\"\n",
    "        # Lignes normales\n",
    "        for i in range(self.height-1):\n",
    "            txt += \"┣\"\n",
    "            for j in range(self.width-1):\n",
    "                txt += \"━━━╋\" if (i+1,j) not in self.neighbors[(i,j)] else \"   ╋\"\n",
    "            txt += \"━━━┫\\n\" if (i+1,self.width-1) not in self.neighbors[(i,self.width-1)] else \"   ┫\\n\"\n",
    "            txt += \"┃\"\n",
    "            for j in range(self.width):\n",
    "                txt += \"   ┃\" if (i+1,j+1) not in self.neighbors[(i+1,j)] else \"    \"\n",
    "            txt += \"\\n\"\n",
    "        # Bas du tableau\n",
    "        txt += \"┗\"\n",
    "        for i in range(self.width-1):\n",
    "            txt += \"━━━┻\"\n",
    "        txt += \"━━━┛\\n\"\n",
    "\n",
    "        return txt\n",
    "    def add_wall(self, c1, c2):\n",
    "        \"\"\"\n",
    "        Ajoute un mur entre la cellule c1 et c2\n",
    "        :param c1, c2: tuple\n",
    "        :rtype: None\n",
    "        \"\"\"\n",
    "        # Facultatif : on teste si les sommets sont bien dans le labyrinthe\n",
    "        assert 0 <= c1[0] < self.height and \\\n",
    "            0 <= c1[1] < self.width and \\\n",
    "            0 <= c2[0] < self.height and \\\n",
    "            0 <= c2[1] < self.width, \\\n",
    "            f\"Erreur lors de l'ajout d'un mur entre {c1} et {c2} : les coordonnées de sont pas compatibles avec les dimensions du labyrinthe\"\n",
    "        # Ajout du mur\n",
    "        if c2 in self.neighbors[c1]:      # Si c2 est dans les voisines de c1\n",
    "            self.neighbors[c1].remove(c2) # on le retire\n",
    "        if c1 in self.neighbors[c2]:      # Si c3 est dans les voisines de c2\n",
    "            self.neighbors[c2].remove(c1) # on le retire\n",
    "        return None\n",
    "    \n",
    "    def remove_wall(self, c1, c2):\n",
    "        \"\"\"\n",
    "        Supprime un mur entre la cellule c1 et c2\n",
    "        :param c1, c2: tuple\n",
    "        :rtype: None\n",
    "        \"\"\"\n",
    "        self.neighbors[c1].add(c2)\n",
    "        self.neighbors[c2].add(c1)\n",
    "        return None\n",
    "    \n",
    "    def get_walls(self):\n",
    "        \"\"\"\n",
    "        Retourne la liste de tous les murs sous la forme d’une liste de tuple de cellules\n",
    "        :rtype: list\n",
    "        :return: une liste de tuple de tous les murs\n",
    "        \"\"\"\n",
    "        list_wall = []\n",
    "        for i in range(self.height): #boucle sur la hauteur du labyrinthe\n",
    "            for j in range(self.width): #boucle sur la largeur du labyrinthe\n",
    "                c1 = (i,j)\n",
    "                c2 = (i,j+1)\n",
    "                c3 = (i+1,j)\n",
    "                if j <self.width-1:\n",
    "                    if c1 not in self.neighbors[c2] and c2 not in self.neighbors[c1]: #Si c1 n'est pas dans les voisins de c2 et inversement\n",
    "                        list_wall.append([c1,c2]) #ajoute le tuple (c1,c2) à la liste des murs\n",
    "                if i<self.height-1:\n",
    "                    if c1 not in self.neighbors[c3] and c3 not in self.neighbors[c1]: #Si c1 n'est pas dans les voisins de c3 et inversement\n",
    "                        list_wall.append([c1,c3]) #ajoute le tuple (c1,c3) à la liste des murs\n",
    "                \n",
    "        return list_wall\n",
    "\n",
    "    def fill(self):\n",
    "        \"\"\"\n",
    "        Ajoute tous les murs possibles dans le labyrinthe\n",
    "        :rtype: None\n",
    "        \"\"\"\n",
    "        walls = self.get_walls()\n",
    "        for i in range(self.height): #boucle sur la hauteur du labyrinthe\n",
    "            for j in range(self.width): #boucle sur la largeur du labyrinthe\n",
    "                c1 = (i,j)\n",
    "                c2 = (i,j+1)\n",
    "                c3 = (i+1,j)\n",
    "                if j <self.width-1: #Ne le fais pas si on est tout à droite du labyrinthe\n",
    "                    if c1 in self.neighbors[c2] and c2 in self.neighbors[c1]: #Si c1 est dans les voisins de c2 et inversement\n",
    "                        self.add_wall(c1,c2) #Ajoute un mur entre c1 et c2\n",
    "                if i <self.height-1: #Ne le fais pas si on est en bas du labyrinthe\n",
    "                    if c1 in self.neighbors[c3] and c3 in self.neighbors[c1]: #Si c1 est dans les voisins de c3 et inversement\n",
    "                        self.add_wall(c1,c3) #Ajoute un mur entre c1 et c3\n",
    "        return None\n",
    "        \n",
    "    \n",
    "    def empty(self):\n",
    "        \"\"\"\n",
    "        Supprime tous les murs du labyrinthe\n",
    "        :rtype: None\n",
    "        \"\"\"\n",
    "        walls = self.get_walls()\n",
    "        for i in range(self.height): #boucle sur la hauteur du labyrinthe\n",
    "            for j in range(self.width): #boucle sur la largeur du labyrinthe\n",
    "                c1 = (i,j)\n",
    "                c2 = (i,j+1)\n",
    "                c3 = (i+1,j)\n",
    "                if j <self.width-1: #Ne le fais pas si on est tout à droite du labyrinthe\n",
    "                    if c1 not in self.neighbors[c2] and c2 not in self.neighbors[c1]: #Si c1 n'est pas dans les voisins de c2 et inversement\n",
    "                        self.remove_wall(c1,c2) #Retire le mur entre c1 et c2\n",
    "                if i <self.height-1: #Ne le fais pas si on est en bas du labyrinthe\n",
    "                    if c1 not in self.neighbors[c3] and c3 not in self.neighbors[c1]: #Si c1 n'est pas dans les voisins de c3 et inversement\n",
    "                        self.remove_wall(c1,c3) #Retire le mur entre c1 et c3\n",
    "        return None        \n",
    "\n",
    "    \n",
    "    def get_contiguous_cells(self, c):\n",
    "        \"\"\"\n",
    "        Retourne la liste des cellules contigües à c dans la grille\n",
    "        :param c: cellule sous forme de tuple\n",
    "        :rtype: list\n",
    "        \"\"\"\n",
    "        list_cells = []\n",
    "        i = c[0]\n",
    "        j = c[1]\n",
    "        if i-1>=0: #Si i-1 est supérieurou égale à 0\n",
    "            list_cells.append((i-1,j)) #Ajoute à la liste des cellules contigües de c\n",
    "        if i+1 < self.height: #Si i+1 est inférieur à la hauteur du labyrinthe\n",
    "            list_cells.append((i+1,j)) #Ajoute à la liste des cellules contigües de c\n",
    "        if j-1>=0:  #Si j-1 est supérieur ou égale à 0\n",
    "            list_cells.append((i,j-1)) #Ajoute à la liste des cellules contigües de c\n",
    "        if j+1 <self.width: #Si j+1 est inférieur à la largeur du labyrinthe\n",
    "            list_cells.append((i,j+1)) #Ajoute à la liste des cellules contigües de c\n",
    "        return list_cells\n",
    "\n",
    "\n",
    "    def get_reachable_cells(self, c):\n",
    "        \"\"\"\n",
    "        Retourne la liste des cellules contigües accessibles depuis c\n",
    "        :param c: tuple\n",
    "        :rtype: list\n",
    "        \"\"\"\n",
    "        list_cells = []\n",
    "        contiguous = self.get_contiguous_cells(c)\n",
    "        for i in range(len(contiguous)): #boucle sur tous les éléments de contiguous\n",
    "            c1 = contiguous[i]\n",
    "            if c1 in laby.neighbors[c]: #si c1 est un voisin de c\n",
    "                list_cells.append(c1) #Ajoute c1 à la liste des cellules contigües accessibles de c\n",
    "        return list_cells\n",
    "    \n",
    "    @classmethod\n",
    "    def gen_btree(cls,h, w):\n",
    "        \"\"\"\n",
    "        Génère un labyrinthe en utilisant l'algorithme de l'arbre binaire\n",
    "        :param h: nombres de lignes à générer sous forme int\n",
    "        :param w: nombres de colones à générer sous forme int\n",
    "        :rtype: labyrinthe\n",
    "        \"\"\"\n",
    "        laby = Maze(h,w) #Création du labyrinthe\n",
    "        \n",
    "        for i in range(h): #boucle sur la hauteur du labyrinthe\n",
    "            for j in range(w): #boucle sur la largeur du labyrinthe\n",
    "                \n",
    "                if i>=h-1 and j <w-1: #retire le mur Sud si le mur Est ne peut pas l'être\n",
    "                    laby.remove_wall((i,j),(i,j+1))\n",
    "                    \n",
    "                elif j >= w-1  and i <h-1: #retire le mur Est si le mur Sud ne peut pas l'être\n",
    "                    laby.remove_wall((i,j),(i+1,j))      \n",
    "                    \n",
    "                elif i<h-1 and j<w-1:\n",
    "                    testSide = randint(0,1) # 0 pour Sud et 1 pour Est\n",
    "                    if testSide == 0:\n",
    "                        laby.remove_wall((i,j),(i+1,j)) #retire le mur Sud\n",
    "                    else:\n",
    "                        laby.remove_wall((i,j),(i,j+1)) #retire le mur Est\n",
    "        return laby\n",
    "    \n",
    "    @classmethod\n",
    "    def gen_sidewinder(cls, h, w):\n",
    "        \"\"\"\n",
    "        Génère un labyrinthe en utilisant l'algorithme Sidewinder\n",
    "        :param h: nombres de lignes à générer sous forme int\n",
    "        :param w: nombres de colones à générer sous forme int\n",
    "        :rtype: labyrinthe\n",
    "        \"\"\"\n",
    "        laby = Maze(h,w) #Création du labyrinthe\n",
    "        for i in range(h-1):\n",
    "            seq = [] #Séquence vide initialisé\n",
    "            for j in range(w-1): #boucle sur la largeur-1 du labyrinthe\n",
    "                seq.append((i,j))\n",
    "                testSide = randint(0,1) #pile = 0 et face = 1\n",
    "                if testSide == 1: #Si face casse le mur Sud\n",
    "                    randomCase = seq[randint(0,len(seq)-1)]\n",
    "                    laby.remove_wall(randomCase,(randomCase[0]+1,randomCase[1]))\n",
    "                    seq.clear()\n",
    "                else: #Sinon casse le mur Est\n",
    "                    laby.remove_wall((i,j),(i,j+1))\n",
    "            seq.append((i,j))\n",
    "            randomCase = seq[randint(0,len(seq)-1)]\n",
    "            laby.remove_wall(randomCase,(randomCase[0]+1,randomCase[1]))\n",
    "        for j in range(w-1): #Boucle pour supprimer les murs ESt de la dernière ligne\n",
    "            laby.remove_wall((h-1,j),(h-1,j+1))\n",
    "        return laby\n",
    "        \n",
    "    @classmethod\n",
    "    def gen_fusion(cls,h,w):\n",
    "        \"\"\"\n",
    "        Génère un labyrinthe parfait en utilisant l'algorithme de fusion\n",
    "        :param h: nombres de lignes à générer sous forme int\n",
    "        :param w: nombres de colones à générer sous forme int\n",
    "        :rtype: labyrinthe\n",
    "        \"\"\"\n",
    "        laby = Maze(h,w) #Création du labyrinthe\n",
    "        label = {} #Création du dictionnaire pour le label des cases\n",
    "        compteur = 0 #initialisation du compteur pour le label ds cases\n",
    "        for i in range(h): #boucle sur la hauteur du labyrinthe\n",
    "            for j in range(w): #boucle sur la largeur du labyrinthe\n",
    "                label[(i,j)] = compteur\n",
    "                compteur += 1\n",
    "        \n",
    "        murs = laby.get_walls()\n",
    "        shuffle(murs)\n",
    "        \n",
    "        for mur in murs: #boucle sur les murs de mur\n",
    "            if label[mur[0]] != label[mur[1]]: #si le mur[0] à un label différent de mur[1]\n",
    "                \n",
    "                laby.remove_wall(mur[0],mur[1]) #retire le mur\n",
    "                caseRef = label[mur[1]] #et défini le label de mur[1] au label de mur[0]\n",
    "                \n",
    "                for key in label: #et à tous les murs avec le même label que mur[1]\n",
    "                    if label[key] == caseRef:\n",
    "                        label[key] = label[mur[0]] \n",
    "        return laby\n",
    "        \n",
    "    @classmethod\n",
    "    def gen_exploration(cls,h,w):\n",
    "        \"\"\"\n",
    "        Génère un labyrinthe en utilisant l’algorithme d’exploration exhaustive\n",
    "        :param h: nombres de lignes à générer sous forme int\n",
    "        :param w: nombres de colones à générer sous forme int\n",
    "        :rtype: labyrinthe\n",
    "        \"\"\"\n",
    "        laby = Maze(h,w) #Création du labyrinthe\n",
    "        pile = [] #initialisation de la pile\n",
    "        visite = [] #initialisation du suivis des cases visités\n",
    "        case = (randint(0,h-1),randint(0,w-1))\n",
    "        visite.append(case)\n",
    "        pile.append(case)\n",
    "        while len(pile)>0: #Tant que la pile n'est pas vide supprime le haut de la pile et vérifie si il y a un voisin non visité\n",
    "            caseTest = pile.pop(0)\n",
    "            voisin = laby.get_contiguous_cells(caseTest)\n",
    "            voisinNonVisite = []\n",
    "            for l in range(len(voisin)):\n",
    "                if voisin[l] not in visite:\n",
    "                    voisinNonVisite.append(voisin[l])\n",
    "                \n",
    "            if len(voisinNonVisite)>0: #Si voisinNonVisite non vide ajoute la case du haut de la pile à la pile et retire le mur entre elle et son voisin\n",
    "                pile.append(caseTest)\n",
    "                caseVoisin = voisinNonVisite[randint(0,len(voisinNonVisite)-1)]\n",
    "                laby.remove_wall(caseTest,caseVoisin)\n",
    "                visite.append(caseVoisin)\n",
    "                pile += [caseVoisin]\n",
    "                \n",
    "        return laby\n",
    "    \n",
    "    @classmethod\n",
    "    def gen_wilson(cls,h,w):\n",
    "        \"\"\"\n",
    "        Génère un labyrinthe en utilisant l’algorithme de Wilson?\n",
    "        :param h: nombres de lignes à générer sous forme int\n",
    "        :param w: nombres de colones à générer sous forme int\n",
    "        :rtype: labyrinthe\n",
    "        \"\"\"\n",
    "        laby = Maze(h,w) #Création du labyrinthe\n",
    "        nbCase = 0\n",
    "        for i in range(h): #boucle sur la hauteur du labyrinthe\n",
    "            for j in range(w): #boucle sur la largeur du labyrinthe\n",
    "                nbCase+=1\n",
    "                \n",
    "        caseDeb = (randint(0,h-1),randint(0,w-1))\n",
    "        marque = set([caseDeb])\n",
    "        \n",
    "        while len(marque)<nbCase:\n",
    "            caseTest = (randint(0,h-1),randint(0,w-1))\n",
    "            while caseTest in marque:\n",
    "                caseTest = (randint(0,h-1),randint(0,w-1))\n",
    "\n",
    "            aMarque = [caseTest]\n",
    "            marquage = False\n",
    "            caseBase = caseTest\n",
    "            \n",
    "            while not marquage:\n",
    "                voisins = laby.get_contiguous_cells(caseTest)\n",
    "                caseNext = voisins[randint(0,len(voisins)-1)]\n",
    "                \n",
    "                if caseNext in aMarque:\n",
    "                    marquage = True\n",
    "                elif caseNext not in marque :\n",
    "                    aMarque.append(caseNext)\n",
    "                    caseTest = caseNext\n",
    "                else :\n",
    "                    aMarque.append(caseNext)\n",
    "                    for case in aMarque:\n",
    "                        marque.add(case)\n",
    "                        laby.remove_wall(caseBase,case)\n",
    "                        caseBase = case\n",
    "                    marquage = True\n",
    "                    \n",
    "        return laby\n",
    "        \n",
    "    def overlay(self, content=None):\n",
    "        \"\"\"\n",
    "        Rendu en mode texte, sur la sortie standard, \\\n",
    "        d'un labyrinthe avec du contenu dans les cellules\n",
    "        Argument:\n",
    "            content (dict) : dictionnaire tq content[cell] contient le caractère à afficher au milieu de la cellule\n",
    "        Retour:\n",
    "            string\n",
    "        \"\"\"\n",
    "        if content is None:\n",
    "            content = {(i,j):' ' for i in range(self.height) for j in range(self.width)}\n",
    "        else:\n",
    "            # Python >=3.9\n",
    "            #content = content | {(i, j): ' ' for i in range(\n",
    "            #    self.height) for j in range(self.width) if (i,j) not in content}\n",
    "            # Python <3.9\n",
    "            new_content = {(i, j): ' ' for i in range(self.height) for j in range(self.width) if (i,j) not in content}\n",
    "            content = {**content, **new_content}\n",
    "        txt = r\"\"\n",
    "        # Première ligne\n",
    "        txt += \"┏\"\n",
    "        for j in range(self.width-1):\n",
    "            txt += \"━━━┳\"\n",
    "        txt += \"━━━┓\\n\"\n",
    "        txt += \"┃\"\n",
    "        for j in range(self.width-1):\n",
    "            txt += \" \"+content[(0,j)]+\" ┃\" if (0,j+1) not in self.neighbors[(0,j)] else \" \"+content[(0,j)]+\"  \"\n",
    "        txt += \" \"+content[(0,self.width-1)]+\" ┃\\n\"\n",
    "        # Lignes normales\n",
    "        for i in range(self.height-1):\n",
    "            txt += \"┣\"\n",
    "            for j in range(self.width-1):\n",
    "                txt += \"━━━╋\" if (i+1,j) not in self.neighbors[(i,j)] else \"   ╋\"\n",
    "            txt += \"━━━┫\\n\" if (i+1,self.width-1) not in self.neighbors[(i,self.width-1)] else \"   ┫\\n\"\n",
    "            txt += \"┃\"\n",
    "            for j in range(self.width):\n",
    "                txt += \" \"+content[(i+1,j)]+\" ┃\" if (i+1,j+1) not in self.neighbors[(i+1,j)] else \" \"+content[(i+1,j)]+\"  \"\n",
    "            txt += \"\\n\"\n",
    "        # Bas du tableau\n",
    "        txt += \"┗\"\n",
    "        for i in range(self.width-1):\n",
    "            txt += \"━━━┻\"\n",
    "        txt += \"━━━┛\\n\"\n",
    "        return txt\n",
    "                             \n",
    "        \n",
    "    def solve_dfs(self, start, stop):\n",
    "        \"\"\"\n",
    "        Résoud un labyrinthe à l'aide de l'algorithme de résolution par parcours en profondeur.\n",
    "        :param start: case de départ\n",
    "        :param stop: case d'arrivé\n",
    "        :rtype chemin: list\n",
    "        \"\"\"\n",
    "        marque = set()\n",
    "        pile = []\n",
    "        pred = {}\n",
    "        \n",
    "        pile.append(start)\n",
    "        marque.add(start)\n",
    "        pred[start] = start\n",
    "        trouver = False\n",
    "        nbCase = 0\n",
    "        for i in range(self.height):\n",
    "            for j in range(self.width):\n",
    "                nbCase +=1\n",
    "        while len(marque) < nbCase and not trouver:\n",
    "            c = pile.pop(0)\n",
    "            if c == stop:\n",
    "                trouver = True\n",
    "            else :\n",
    "                for case in self.get_reachable_cells(c):\n",
    "                    if case not in marque:\n",
    "                        marque.add(case)\n",
    "                        pile.append(case)\n",
    "                        pred[case] = c\n",
    "        \n",
    "        chemin = []\n",
    "        c = stop\n",
    "        while c != start:\n",
    "            chemin.append(c)\n",
    "            c = pred[c]\n",
    "        chemin.append(stop)\n",
    "        return chemin\n",
    "                             \n",
    "\n",
    "    def solve_bfs(self, start, stop):\n",
    "        \"\"\"\n",
    "        Résoud un labyrinthe à l'aide de l'algorithme de résolution par parcours en largeur.\n",
    "        :param start: case de départ\n",
    "        :param stop: case d'arrivé\n",
    "        :rtype chemin: list\n",
    "        \"\"\"\n",
    "        marque = set()\n",
    "        file = []\n",
    "        pred = {}\n",
    "        \n",
    "        file.append(start)\n",
    "        marque.add(start)\n",
    "        pred[start] = start\n",
    "        trouver = False\n",
    "        nbCase = 0\n",
    "        for i in range(self.height):\n",
    "            for j in range(self.width):\n",
    "                nbCase +=1\n",
    "        while len(marque) < nbCase and not trouver:\n",
    "            c = file.pop(0)\n",
    "            if c == stop:\n",
    "                trouver = True\n",
    "            else :\n",
    "                for case in self.get_reachable_cells(c):\n",
    "                    if case not in marque:\n",
    "                        marque.add(case)\n",
    "                        file.append(case)\n",
    "                        pred[case] = c\n",
    "        \n",
    "        chemin = []\n",
    "        c = stop\n",
    "        while c != start:\n",
    "            chemin.append(c)\n",
    "            c = pred[c]\n",
    "        chemin.append(stop)\n",
    "        return chemin\n",
    "    \n",
    "    def solve_rhr(self, start, stop):\n",
    "        \"\"\"\n",
    "        Résoud un labyrinthe à l'aide de l'algorithme dis de \"la main droite\".\n",
    "        :param start: case de départ\n",
    "        :param stop: case d'arrivé\n",
    "        :rtype chemin: list\n",
    "        \"\"\"\n",
    "        \n",
    "        chemin = []\n",
    "        return chemin\n",
    "    \n",
    "    def distance_geo(self, c1, c2):\n",
    "        \"\"\"\n",
    "        Trouve la résolution la plus rapide avec la distance \"géodesique\".\n",
    "        :param c1: case de départ\n",
    "        :param c2: case d'arrivé\n",
    "        :rtype longChemin: int\n",
    "        \"\"\"\n",
    "        mouvements = self.solve_bfs(c1,c2)\n",
    "        longChemin = len(mouvements)\n",
    "        minimal = False\n",
    "        #print(mouvements,longChemin)\n",
    "        while not minimal:\n",
    "            mouvements = self.solve_bfs(c1,c2)\n",
    "            if len(mouvements) == longChemin:\n",
    "                minimal = True\n",
    "            elif len(mouvements)<longChemin:\n",
    "                longChemin = len(mouvements)\n",
    "            \n",
    "        solution = self.solve_bfs(c1, c2)\n",
    "        str_solution = {c:'*' for c in solution}\n",
    "        str_solution[c1] = 'D'\n",
    "        str_solution[c2] = 'A'\n",
    "        print(self.overlay(str_solution))\n",
    "        return longChemin\n",
    "    \n",
    "    def distance_man(self, c1, c2):\n",
    "        \"\"\"\n",
    "        Trouve la résolution la plus rapide avec la distance Manhattan.\n",
    "        :param c1: case de départ\n",
    "        :param c2: case d'arrivé\n",
    "        :rtype: int\n",
    "        \"\"\"\n",
    "         return abs(c2[0] - c1[0]) + abs(c2[1] - c1[1])\n",
    "    \n",
    "    def dead_end_number(self):\n",
    "        \"\"\"\n",
    "        Retourne le nombre de cul-de-sac du labyrinthe.\n",
    "        :rtype dead_end: int\n",
    "        \"\"\"\n",
    "        dead_end = 0\n",
    "        for i in range(self.height):\n",
    "            for j in range(self.width):\n",
    "                if len(self.get_reachable_cells((i,j))) <= 1:\n",
    "                    dead_end+=1\n",
    "        return dead_end"
   ]
  },
  {
   "cell_type": "markdown",
   "id": "b03c7ecd",
   "metadata": {},
   "source": [
    "# EXERCICE"
   ]
  },
  {
   "cell_type": "markdown",
   "id": "8745e977",
   "metadata": {},
   "source": [
    "## 3. Implémentation"
   ]
  },
  {
   "cell_type": "code",
   "execution_count": 147,
   "id": "5679616c",
   "metadata": {},
   "outputs": [
    {
     "name": "stdout",
     "output_type": "stream",
     "text": [
      "**Informations sur le labyrinthe**\n",
      "- Dimensions de la grille : 4 x 4\n",
      "- Voisinages :\n",
      "{(0, 0): set(), (0, 1): set(), (0, 2): set(), (0, 3): set(), (1, 0): set(), (1, 1): set(), (1, 2): set(), (1, 3): set(), (2, 0): set(), (2, 1): set(), (2, 2): set(), (2, 3): set(), (3, 0): set(), (3, 1): set(), (3, 2): set(), (3, 3): set()}\n",
      "- Structure cohérente\n",
      "\n"
     ]
    }
   ],
   "source": [
    "laby = Maze(4, 4)\n",
    "print(laby.info())"
   ]
  },
  {
   "cell_type": "code",
   "execution_count": 148,
   "id": "b5d2508b",
   "metadata": {},
   "outputs": [
    {
     "name": "stdout",
     "output_type": "stream",
     "text": [
      "┏━━━┳━━━┳━━━┳━━━┓\n",
      "┃   ┃   ┃   ┃   ┃\n",
      "┣━━━╋━━━╋━━━╋━━━┫\n",
      "┃   ┃   ┃   ┃   ┃\n",
      "┣━━━╋━━━╋━━━╋━━━┫\n",
      "┃   ┃   ┃   ┃   ┃\n",
      "┣━━━╋━━━╋━━━╋━━━┫\n",
      "┃   ┃   ┃   ┃   ┃\n",
      "┗━━━┻━━━┻━━━┻━━━┛\n",
      "\n"
     ]
    }
   ],
   "source": [
    "print(laby)"
   ]
  },
  {
   "cell_type": "code",
   "execution_count": 149,
   "id": "806947f1",
   "metadata": {},
   "outputs": [
    {
     "name": "stdout",
     "output_type": "stream",
     "text": [
      "┏━━━┳━━━┳━━━┳━━━┓\n",
      "┃   ┃           ┃\n",
      "┣   ╋   ╋━━━╋   ┫\n",
      "┃   ┃       ┃   ┃\n",
      "┣   ╋━━━╋   ╋   ┫\n",
      "┃           ┃   ┃\n",
      "┣   ╋━━━╋━━━╋   ┫\n",
      "┃           ┃   ┃\n",
      "┗━━━┻━━━┻━━━┻━━━┛\n",
      "\n"
     ]
    }
   ],
   "source": [
    "laby.neighbors = {\n",
    "    (0, 0): {(1, 0)},\n",
    "    (0, 1): {(0, 2), (1, 1)},\n",
    "    (0, 2): {(0, 1), (0, 3)},\n",
    "    (0, 3): {(0, 2), (1, 3)},\n",
    "    (1, 0): {(2, 0), (0, 0)},\n",
    "    (1, 1): {(0, 1), (1, 2)},\n",
    "    (1, 2): {(1, 1), (2, 2)},\n",
    "    (1, 3): {(2, 3), (0, 3)},\n",
    "    (2, 0): {(1, 0), (2, 1), (3, 0)},\n",
    "    (2, 1): {(2, 0), (2, 2)},\n",
    "    (2, 2): {(1, 2), (2, 1)},\n",
    "    (2, 3): {(3, 3), (1, 3)},\n",
    "    (3, 0): {(3, 1), (2, 0)},\n",
    "    (3, 1): {(3, 2), (3, 0)},\n",
    "    (3, 2): {(3, 1)},\n",
    "    (3, 3): {(2, 3)}\n",
    "}\n",
    "\n",
    "print(laby)"
   ]
  },
  {
   "cell_type": "code",
   "execution_count": 150,
   "id": "763b3e4d",
   "metadata": {},
   "outputs": [
    {
     "name": "stdout",
     "output_type": "stream",
     "text": [
      "┏━━━┳━━━┳━━━┳━━━┓\n",
      "┃   ┃           ┃\n",
      "┣   ╋   ╋━━━╋   ┫\n",
      "┃   ┃       ┃   ┃\n",
      "┣   ╋━━━╋   ╋━━━┫\n",
      "┃           ┃   ┃\n",
      "┣   ╋━━━╋━━━╋   ┫\n",
      "┃           ┃   ┃\n",
      "┗━━━┻━━━┻━━━┻━━━┛\n",
      "\n"
     ]
    }
   ],
   "source": [
    "laby.neighbors[(1,3)].remove((2,3))\n",
    "laby.neighbors[(2,3)].remove((1,3))\n",
    "print(laby)"
   ]
  },
  {
   "cell_type": "code",
   "execution_count": 151,
   "id": "0408293d",
   "metadata": {},
   "outputs": [
    {
     "name": "stdout",
     "output_type": "stream",
     "text": [
      "┏━━━┳━━━┳━━━┳━━━┓\n",
      "┃   ┃           ┃\n",
      "┣   ╋   ╋━━━╋   ┫\n",
      "┃   ┃       ┃   ┃\n",
      "┣   ╋━━━╋   ╋   ┫\n",
      "┃           ┃   ┃\n",
      "┣   ╋━━━╋━━━╋   ┫\n",
      "┃           ┃   ┃\n",
      "┗━━━┻━━━┻━━━┻━━━┛\n",
      "\n"
     ]
    }
   ],
   "source": [
    "laby.neighbors[(1, 3)].add((2, 3))\n",
    "laby.neighbors[(2, 3)].add((1, 3))\n",
    "print(laby)"
   ]
  },
  {
   "cell_type": "code",
   "execution_count": 152,
   "id": "c6ffc466",
   "metadata": {},
   "outputs": [
    {
     "name": "stdout",
     "output_type": "stream",
     "text": [
      "┏━━━┳━━━┳━━━┳━━━┓\n",
      "┃   ┃           ┃\n",
      "┣   ╋   ╋━━━╋   ┫\n",
      "┃   ┃       ┃   ┃\n",
      "┣   ╋━━━╋   ╋━━━┫\n",
      "┃           ┃   ┃\n",
      "┣   ╋━━━╋━━━╋   ┫\n",
      "┃           ┃   ┃\n",
      "┗━━━┻━━━┻━━━┻━━━┛\n",
      "\n",
      "**Informations sur le labyrinthe**\n",
      "- Dimensions de la grille : 4 x 4\n",
      "- Voisinages :\n",
      "{(0, 0): {(1, 0)}, (0, 1): {(1, 1), (0, 2)}, (0, 2): {(0, 1), (0, 3)}, (0, 3): {(0, 2), (1, 3)}, (1, 0): {(2, 0), (0, 0)}, (1, 1): {(0, 1), (1, 2)}, (1, 2): {(1, 1), (2, 2)}, (1, 3): {(0, 3)}, (2, 0): {(1, 0), (2, 1), (3, 0)}, (2, 1): {(2, 0), (2, 2)}, (2, 2): {(1, 2), (2, 1)}, (2, 3): {(3, 3), (1, 3)}, (3, 0): {(3, 1), (2, 0)}, (3, 1): {(3, 2), (3, 0)}, (3, 2): {(3, 1)}, (3, 3): {(2, 3)}}\n",
      "- Structure incohérente : (2, 3) X (1, 3)\n",
      "\n"
     ]
    }
   ],
   "source": [
    "laby.neighbors[(1, 3)].remove((2, 3))\n",
    "print(laby)\n",
    "print(laby.info())"
   ]
  },
  {
   "cell_type": "code",
   "execution_count": 153,
   "id": "46fcc90c",
   "metadata": {},
   "outputs": [],
   "source": [
    "laby.neighbors[(2, 3)].remove((1,3))"
   ]
  },
  {
   "cell_type": "code",
   "execution_count": 154,
   "id": "9c448830",
   "metadata": {},
   "outputs": [
    {
     "name": "stdout",
     "output_type": "stream",
     "text": [
      "Il y a un mur entre (1, 3) et (2, 3) car (1, 3) n'est pas dans le voisinage de (2, 3) et (2, 3) n'est pas dans le voisinage de (1, 3)\n"
     ]
    }
   ],
   "source": [
    "c1 = (1, 3)\n",
    "c2 = (2, 3)\n",
    "if c1 in laby.neighbors[c2] and c2 in laby.neighbors[c1]:\n",
    "    print(f\"Il n'y a pas de mur entre {c1} et {c2} car elles sont mutuellement voisines\")\n",
    "elif c1 not in laby.neighbors[c2] and c2 not in laby.neighbors[c1]:\n",
    "    print(f\"Il y a un mur entre {c1} et {c2} car {c1} n'est pas dans le voisinage de {c2} et {c2} n'est pas dans le voisinage de {c1}\")\n",
    "else:\n",
    "    print(f\"Il y a une incohérence de réciprocité des voisinages de {c1} et {c2}\")"
   ]
  },
  {
   "cell_type": "code",
   "execution_count": 155,
   "id": "5a1a1306",
   "metadata": {},
   "outputs": [
    {
     "name": "stdout",
     "output_type": "stream",
     "text": [
      "(1, 3) n'est pas accessible depuis (2, 3) et vice-versa\n"
     ]
    }
   ],
   "source": [
    "c1 = (1, 3)\n",
    "c2 = (2, 3)\n",
    "if c1 in laby.neighbors[c2] and c2 in laby.neighbors[c1]:\n",
    "    print(f\"{c1} est accessible depuis {c2} et vice-versa\")\n",
    "elif c1 not in laby.neighbors[c2] and c2 not in laby.neighbors[c1]:\n",
    "    print(f\"{c1} n'est pas accessible depuis {c2} et vice-versa\")\n",
    "else:\n",
    "    print(f\"Il y a une incohérence de réciprocité des voisinages de {c1} et {c2}\")"
   ]
  },
  {
   "cell_type": "code",
   "execution_count": 156,
   "id": "38b60c1b",
   "metadata": {},
   "outputs": [
    {
     "name": "stdout",
     "output_type": "stream",
     "text": [
      "Liste des cellules : \n",
      "[(0, 0), (0, 1), (0, 2), (0, 3), (1, 0), (1, 1), (1, 2), (1, 3), (2, 0), (2, 1), (2, 2), (2, 3), (3, 0), (3, 1), (3, 2), (3, 3)]\n"
     ]
    }
   ],
   "source": [
    "L = []\n",
    "for i in range(laby.height):\n",
    "    for j in range(laby.width):\n",
    "        L.append((i,j))\n",
    "print(f\"Liste des cellules : \\n{L}\")"
   ]
  },
  {
   "cell_type": "markdown",
   "id": "c7bc2b4c",
   "metadata": {},
   "source": [
    "## 4. Manipulation de labyrinthes"
   ]
  },
  {
   "cell_type": "code",
   "execution_count": 157,
   "id": "25e25758",
   "metadata": {},
   "outputs": [
    {
     "name": "stdout",
     "output_type": "stream",
     "text": [
      "┏━━━┳━━━┳━━━┳━━━┳━━━┓\n",
      "┃   ┃   ┃   ┃   ┃   ┃\n",
      "┣━━━╋━━━╋━━━╋━━━╋━━━┫\n",
      "┃   ┃   ┃   ┃   ┃   ┃\n",
      "┣━━━╋━━━╋━━━╋━━━╋━━━┫\n",
      "┃   ┃   ┃   ┃   ┃   ┃\n",
      "┣━━━╋━━━╋━━━╋━━━╋━━━┫\n",
      "┃   ┃   ┃   ┃   ┃   ┃\n",
      "┣━━━╋━━━╋━━━╋━━━╋━━━┫\n",
      "┃   ┃   ┃   ┃   ┃   ┃\n",
      "┗━━━┻━━━┻━━━┻━━━┻━━━┛\n",
      "\n"
     ]
    }
   ],
   "source": [
    "laby = Maze(5, 5)\n",
    "print(laby)"
   ]
  },
  {
   "cell_type": "code",
   "execution_count": 158,
   "id": "20d92443",
   "metadata": {},
   "outputs": [
    {
     "name": "stdout",
     "output_type": "stream",
     "text": [
      "┏━━━┳━━━┳━━━┳━━━┳━━━┓\n",
      "┃                   ┃\n",
      "┣   ╋   ╋   ╋   ╋   ┫\n",
      "┃                   ┃\n",
      "┣   ╋   ╋   ╋   ╋   ┫\n",
      "┃                   ┃\n",
      "┣   ╋   ╋   ╋   ╋   ┫\n",
      "┃                   ┃\n",
      "┣   ╋   ╋   ╋   ╋   ┫\n",
      "┃                   ┃\n",
      "┗━━━┻━━━┻━━━┻━━━┻━━━┛\n",
      "\n"
     ]
    }
   ],
   "source": [
    "laby.empty()\n",
    "print(laby)"
   ]
  },
  {
   "cell_type": "code",
   "execution_count": 159,
   "id": "239a53ce",
   "metadata": {},
   "outputs": [
    {
     "name": "stdout",
     "output_type": "stream",
     "text": [
      "┏━━━┳━━━┳━━━┳━━━┳━━━┓\n",
      "┃   ┃   ┃   ┃   ┃   ┃\n",
      "┣━━━╋━━━╋━━━╋━━━╋━━━┫\n",
      "┃   ┃   ┃   ┃   ┃   ┃\n",
      "┣━━━╋━━━╋━━━╋━━━╋━━━┫\n",
      "┃   ┃   ┃   ┃   ┃   ┃\n",
      "┣━━━╋━━━╋━━━╋━━━╋━━━┫\n",
      "┃   ┃   ┃   ┃   ┃   ┃\n",
      "┣━━━╋━━━╋━━━╋━━━╋━━━┫\n",
      "┃   ┃   ┃   ┃   ┃   ┃\n",
      "┗━━━┻━━━┻━━━┻━━━┻━━━┛\n",
      "\n"
     ]
    }
   ],
   "source": [
    "laby.fill()\n",
    "print(laby)"
   ]
  },
  {
   "cell_type": "code",
   "execution_count": 160,
   "id": "94145410",
   "metadata": {},
   "outputs": [
    {
     "name": "stdout",
     "output_type": "stream",
     "text": [
      "┏━━━┳━━━┳━━━┳━━━┳━━━┓\n",
      "┃       ┃   ┃   ┃   ┃\n",
      "┣━━━╋━━━╋━━━╋━━━╋━━━┫\n",
      "┃   ┃   ┃   ┃   ┃   ┃\n",
      "┣━━━╋━━━╋━━━╋━━━╋━━━┫\n",
      "┃   ┃   ┃   ┃   ┃   ┃\n",
      "┣━━━╋━━━╋━━━╋━━━╋━━━┫\n",
      "┃   ┃   ┃   ┃   ┃   ┃\n",
      "┣━━━╋━━━╋━━━╋━━━╋━━━┫\n",
      "┃   ┃   ┃   ┃   ┃   ┃\n",
      "┗━━━┻━━━┻━━━┻━━━┻━━━┛\n",
      "\n"
     ]
    }
   ],
   "source": [
    "laby.remove_wall((0, 0), (0, 1))\n",
    "print(laby)"
   ]
  },
  {
   "cell_type": "code",
   "execution_count": 161,
   "id": "b0e728b9",
   "metadata": {},
   "outputs": [
    {
     "name": "stdout",
     "output_type": "stream",
     "text": [
      "┏━━━┳━━━┳━━━┳━━━┳━━━┓\n",
      "┃   ┃               ┃\n",
      "┣   ╋━━━╋   ╋   ╋   ┫\n",
      "┃                   ┃\n",
      "┣   ╋   ╋   ╋   ╋   ┫\n",
      "┃                   ┃\n",
      "┣   ╋   ╋   ╋   ╋   ┫\n",
      "┃                   ┃\n",
      "┣   ╋   ╋   ╋   ╋   ┫\n",
      "┃               ┃   ┃\n",
      "┗━━━┻━━━┻━━━┻━━━┻━━━┛\n",
      "\n"
     ]
    }
   ],
   "source": [
    "laby.empty()\n",
    "laby.add_wall((0, 0), (0, 1))\n",
    "laby.add_wall((0, 1), (1, 1))\n",
    "laby.add_wall((4,4),(4,3))\n",
    "print(laby)"
   ]
  },
  {
   "cell_type": "code",
   "execution_count": 162,
   "id": "0041751d",
   "metadata": {},
   "outputs": [
    {
     "name": "stdout",
     "output_type": "stream",
     "text": [
      "[[(0, 0), (0, 1)], [(0, 1), (1, 1)], [(4, 3), (4, 4)]]\n"
     ]
    }
   ],
   "source": [
    "print(laby.get_walls())"
   ]
  },
  {
   "cell_type": "code",
   "execution_count": 163,
   "id": "ce24bfde",
   "metadata": {},
   "outputs": [
    {
     "name": "stdout",
     "output_type": "stream",
     "text": [
      "[(1, 1), (0, 0), (0, 2)]\n"
     ]
    }
   ],
   "source": [
    "print(laby.get_contiguous_cells((0,1)))"
   ]
  },
  {
   "cell_type": "code",
   "execution_count": 164,
   "id": "dde524e3",
   "metadata": {},
   "outputs": [
    {
     "name": "stdout",
     "output_type": "stream",
     "text": [
      "[(0, 2)]\n"
     ]
    }
   ],
   "source": [
    "print(laby.get_reachable_cells((0,1)))"
   ]
  },
  {
   "cell_type": "markdown",
   "id": "41222e73",
   "metadata": {},
   "source": [
    "## 5. Génération"
   ]
  },
  {
   "cell_type": "markdown",
   "id": "5d19df9e",
   "metadata": {},
   "source": [
    "### 1. Arbre binaire"
   ]
  },
  {
   "cell_type": "code",
   "execution_count": 165,
   "id": "1cb2a0ea",
   "metadata": {},
   "outputs": [
    {
     "name": "stdout",
     "output_type": "stream",
     "text": [
      "┏━━━┳━━━┳━━━┳━━━┳━━━┳━━━┳━━━┳━━━┳━━━┳━━━┳━━━┳━━━┳━━━┳━━━┳━━━┓\n",
      "┃           ┃               ┃   ┃   ┃           ┃   ┃       ┃\n",
      "┣━━━╋━━━╋   ╋━━━╋━━━╋━━━╋   ╋   ╋   ╋━━━╋━━━╋   ╋   ╋━━━╋   ┫\n",
      "┃       ┃       ┃           ┃   ┃   ┃       ┃       ┃       ┃\n",
      "┣━━━╋   ╋━━━╋   ╋━━━╋━━━╋   ╋   ╋   ╋━━━╋   ╋━━━╋   ╋━━━╋   ┫\n",
      "┃       ┃   ┃   ┃       ┃           ┃   ┃   ┃       ┃   ┃   ┃\n",
      "┣━━━╋   ╋   ╋   ╋━━━╋   ╋━━━╋━━━╋   ╋   ╋   ╋━━━╋   ╋   ╋   ┫\n",
      "┃   ┃   ┃   ┃   ┃       ┃       ┃   ┃   ┃           ┃       ┃\n",
      "┣   ╋   ╋   ╋   ╋━━━╋   ╋━━━╋   ╋   ╋   ╋━━━╋━━━╋   ╋━━━╋   ┫\n",
      "┃           ┃   ┃   ┃                       ┃   ┃   ┃   ┃   ┃\n",
      "┣━━━╋━━━╋   ╋   ╋   ╋━━━╋━━━╋━━━╋━━━╋━━━╋   ╋   ╋   ╋   ╋   ┫\n",
      "┃   ┃       ┃           ┃   ┃       ┃                       ┃\n",
      "┣   ╋━━━╋   ╋━━━╋━━━╋   ╋   ╋━━━╋   ╋━━━╋━━━╋━━━╋━━━╋━━━╋   ┫\n",
      "┃               ┃       ┃                   ┃               ┃\n",
      "┣━━━╋━━━╋━━━╋   ╋━━━╋   ╋━━━╋━━━╋━━━╋━━━╋   ╋━━━╋━━━╋━━━╋   ┫\n",
      "┃                   ┃           ┃   ┃       ┃               ┃\n",
      "┣━━━╋━━━╋━━━╋━━━╋   ╋━━━╋━━━╋   ╋   ╋━━━╋   ╋━━━╋━━━╋━━━╋   ┫\n",
      "┃       ┃       ┃   ┃   ┃       ┃   ┃       ┃   ┃   ┃   ┃   ┃\n",
      "┣━━━╋   ╋━━━╋   ╋   ╋   ╋━━━╋   ╋   ╋━━━╋   ╋   ╋   ╋   ╋   ┫\n",
      "┃       ┃       ┃   ┃   ┃       ┃   ┃       ┃       ┃   ┃   ┃\n",
      "┣━━━╋   ╋━━━╋   ╋   ╋   ╋━━━╋   ╋   ╋━━━╋   ╋━━━╋   ╋   ╋   ┫\n",
      "┃   ┃   ┃               ┃           ┃       ┃   ┃   ┃       ┃\n",
      "┣   ╋   ╋━━━╋━━━╋━━━╋   ╋━━━╋━━━╋   ╋━━━╋   ╋   ╋   ╋━━━╋   ┫\n",
      "┃               ┃   ┃   ┃       ┃           ┃           ┃   ┃\n",
      "┣━━━╋━━━╋━━━╋   ╋   ╋   ╋━━━╋   ╋━━━╋━━━╋   ╋━━━╋━━━╋   ╋   ┫\n",
      "┃   ┃   ┃   ┃               ┃       ┃       ┃   ┃   ┃   ┃   ┃\n",
      "┣   ╋   ╋   ╋━━━╋━━━╋━━━╋   ╋━━━╋   ╋━━━╋   ╋   ╋   ╋   ╋   ┫\n",
      "┃       ┃       ┃       ┃                   ┃           ┃   ┃\n",
      "┣━━━╋   ╋━━━╋   ╋━━━╋   ╋━━━╋━━━╋━━━╋━━━╋   ╋━━━╋━━━╋   ╋   ┫\n",
      "┃                                                           ┃\n",
      "┗━━━┻━━━┻━━━┻━━━┻━━━┻━━━┻━━━┻━━━┻━━━┻━━━┻━━━┻━━━┻━━━┻━━━┻━━━┛\n",
      "\n"
     ]
    }
   ],
   "source": [
    "laby = Maze.gen_btree(15, 15)\n",
    "print(laby)"
   ]
  },
  {
   "cell_type": "markdown",
   "id": "26b85a5c",
   "metadata": {},
   "source": [
    "### 2. Sidewinder"
   ]
  },
  {
   "cell_type": "code",
   "execution_count": 166,
   "id": "9e920e13",
   "metadata": {},
   "outputs": [
    {
     "name": "stdout",
     "output_type": "stream",
     "text": [
      "┏━━━┳━━━┳━━━┳━━━┳━━━┳━━━┳━━━┳━━━┳━━━┳━━━┓\n",
      "┃   ┃       ┃       ┃       ┃       ┃   ┃\n",
      "┣   ╋━━━╋   ╋   ╋━━━╋   ╋━━━╋━━━╋   ╋━━━┫\n",
      "┃       ┃       ┃   ┃   ┃   ┃   ┃   ┃   ┃\n",
      "┣━━━╋   ╋   ╋━━━╋   ╋   ╋   ╋   ╋   ╋━━━┫\n",
      "┃       ┃                   ┃       ┃   ┃\n",
      "┣━━━╋   ╋━━━╋   ╋━━━╋━━━╋━━━╋   ╋   ╋━━━┫\n",
      "┃   ┃       ┃       ┃           ┃       ┃\n",
      "┣   ╋   ╋━━━╋━━━╋   ╋━━━╋━━━╋   ╋   ╋━━━┫\n",
      "┃   ┃   ┃       ┃   ┃       ┃           ┃\n",
      "┣   ╋   ╋━━━╋   ╋   ╋━━━╋   ╋━━━╋   ╋━━━┫\n",
      "┃   ┃   ┃                   ┃       ┃   ┃\n",
      "┣   ╋   ╋━━━╋━━━╋━━━╋   ╋━━━╋━━━╋   ╋━━━┫\n",
      "┃   ┃       ┃   ┃   ┃   ┃   ┃   ┃   ┃   ┃\n",
      "┣   ╋   ╋━━━╋   ╋   ╋   ╋   ╋   ╋   ╋━━━┫\n",
      "┃   ┃           ┃       ┃               ┃\n",
      "┣   ╋   ╋━━━╋━━━╋━━━╋   ╋━━━╋━━━╋   ╋━━━┫\n",
      "┃   ┃               ┃       ┃       ┃   ┃\n",
      "┣   ╋   ╋━━━╋━━━╋━━━╋━━━╋   ╋   ╋   ╋━━━┫\n",
      "┃                                       ┃\n",
      "┗━━━┻━━━┻━━━┻━━━┻━━━┻━━━┻━━━┻━━━┻━━━┻━━━┛\n",
      "\n"
     ]
    }
   ],
   "source": [
    "laby = Maze.gen_sidewinder(10, 10)\n",
    "print(laby)"
   ]
  },
  {
   "cell_type": "markdown",
   "id": "4724ccfd",
   "metadata": {},
   "source": [
    "### 3. Fusion de chemins"
   ]
  },
  {
   "cell_type": "code",
   "execution_count": 167,
   "id": "f17a12d9",
   "metadata": {},
   "outputs": [
    {
     "name": "stdout",
     "output_type": "stream",
     "text": [
      "┏━━━┳━━━┳━━━┳━━━┳━━━┳━━━┳━━━┳━━━┳━━━┳━━━┳━━━┳━━━┳━━━┳━━━┳━━━┓\n",
      "┃                       ┃               ┃   ┃   ┃           ┃\n",
      "┣━━━╋   ╋━━━╋━━━╋━━━╋━━━╋━━━╋━━━╋   ╋━━━╋   ╋   ╋   ╋   ╋   ┫\n",
      "┃   ┃       ┃       ┃   ┃               ┃           ┃   ┃   ┃\n",
      "┣   ╋   ╋━━━╋   ╋   ╋   ╋━━━╋   ╋   ╋━━━╋   ╋━━━╋━━━╋   ╋━━━┫\n",
      "┃       ┃   ┃   ┃   ┃           ┃           ┃       ┃       ┃\n",
      "┣━━━╋   ╋   ╋━━━╋   ╋━━━╋━━━╋   ╋━━━╋━━━╋━━━╋   ╋━━━╋━━━╋━━━┫\n",
      "┃       ┃   ┃   ┃                   ┃   ┃   ┃       ┃       ┃\n",
      "┣   ╋   ╋   ╋   ╋   ╋━━━╋   ╋   ╋━━━╋   ╋   ╋   ╋━━━╋━━━╋   ┫\n",
      "┃   ┃           ┃   ┃       ┃       ┃   ┃       ┃           ┃\n",
      "┣   ╋━━━╋━━━╋   ╋━━━╋   ╋━━━╋━━━╋   ╋   ╋   ╋   ╋   ╋━━━╋   ┫\n",
      "┃   ┃               ┃           ┃   ┃       ┃           ┃   ┃\n",
      "┣━━━╋   ╋━━━╋   ╋━━━╋   ╋━━━╋   ╋━━━╋   ╋━━━╋   ╋━━━╋━━━╋   ┫\n",
      "┃           ┃           ┃               ┃       ┃           ┃\n",
      "┣━━━╋━━━╋   ╋━━━╋━━━╋━━━╋━━━╋   ╋   ╋━━━╋   ╋   ╋━━━╋   ╋━━━┫\n",
      "┃           ┃                   ┃       ┃   ┃   ┃   ┃       ┃\n",
      "┣━━━╋━━━╋   ╋   ╋━━━╋━━━╋━━━╋━━━╋━━━╋━━━╋━━━╋━━━╋   ╋   ╋━━━┫\n",
      "┃   ┃   ┃   ┃           ┃           ┃       ┃               ┃\n",
      "┣   ╋   ╋━━━╋━━━╋━━━╋   ╋━━━╋━━━╋   ╋━━━╋   ╋━━━╋━━━╋   ╋━━━┫\n",
      "┃       ┃   ┃   ┃           ┃               ┃           ┃   ┃\n",
      "┣   ╋━━━╋   ╋   ╋   ╋━━━╋━━━╋━━━╋   ╋━━━╋━━━╋━━━╋━━━╋   ╋   ┫\n",
      "┃                           ┃       ┃   ┃       ┃   ┃   ┃   ┃\n",
      "┣━━━╋━━━╋   ╋━━━╋━━━╋━━━╋   ╋   ╋   ╋   ╋━━━╋   ╋   ╋━━━╋   ┫\n",
      "┃           ┃                   ┃       ┃   ┃           ┃   ┃\n",
      "┣   ╋   ╋━━━╋━━━╋━━━╋━━━╋   ╋━━━╋   ╋━━━╋   ╋   ╋   ╋   ╋   ┫\n",
      "┃   ┃           ┃               ┃               ┃   ┃       ┃\n",
      "┣   ╋━━━╋━━━╋━━━╋   ╋━━━╋━━━╋━━━╋━━━╋   ╋   ╋   ╋━━━╋   ╋   ┫\n",
      "┃   ┃       ┃   ┃               ┃   ┃   ┃   ┃   ┃       ┃   ┃\n",
      "┣   ╋   ╋━━━╋   ╋━━━╋   ╋   ╋   ╋   ╋━━━╋━━━╋   ╋━━━╋   ╋━━━┫\n",
      "┃               ┃       ┃   ┃               ┃   ┃           ┃\n",
      "┗━━━┻━━━┻━━━┻━━━┻━━━┻━━━┻━━━┻━━━┻━━━┻━━━┻━━━┻━━━┻━━━┻━━━┻━━━┛\n",
      "\n"
     ]
    }
   ],
   "source": [
    "laby = Maze.gen_fusion(15,15)\n",
    "print(laby)"
   ]
  },
  {
   "cell_type": "code",
   "execution_count": 168,
   "id": "bde663da",
   "metadata": {},
   "outputs": [
    {
     "name": "stdout",
     "output_type": "stream",
     "text": [
      "┏━━━┳━━━┳━━━┳━━━┳━━━┳━━━┳━━━┳━━━┳━━━┳━━━┳━━━┳━━━┳━━━┳━━━┳━━━┓\n",
      "┃   ┃   ┃       ┃                           ┃       ┃   ┃   ┃\n",
      "┣   ╋   ╋   ╋━━━╋   ╋━━━╋━━━╋━━━╋━━━╋━━━╋━━━╋   ╋━━━╋   ╋   ┫\n",
      "┃   ┃   ┃   ┃   ┃   ┃           ┃               ┃       ┃   ┃\n",
      "┣   ╋   ╋   ╋   ╋   ╋   ╋━━━╋━━━╋   ╋━━━╋━━━╋━━━╋   ╋━━━╋   ┫\n",
      "┃   ┃   ┃   ┃       ┃                   ┃       ┃   ┃   ┃   ┃\n",
      "┣   ╋   ╋   ╋   ╋━━━╋   ╋━━━╋━━━╋━━━╋━━━╋   ╋━━━╋   ╋   ╋   ┫\n",
      "┃   ┃   ┃   ┃   ┃   ┃           ┃           ┃       ┃   ┃   ┃\n",
      "┣   ╋   ╋   ╋   ╋   ╋   ╋━━━╋━━━╋   ╋━━━╋━━━╋   ╋━━━╋   ╋   ┫\n",
      "┃   ┃   ┃   ┃   ┃       ┃           ┃           ┃       ┃   ┃\n",
      "┣   ╋   ╋   ╋   ╋   ╋━━━╋   ╋━━━╋━━━╋   ╋━━━╋━━━╋   ╋━━━╋   ┫\n",
      "┃   ┃   ┃       ┃   ┃       ┃               ┃       ┃   ┃   ┃\n",
      "┣   ╋   ╋   ╋━━━╋   ╋   ╋━━━╋   ╋━━━╋━━━╋━━━╋   ╋━━━╋   ╋   ┫\n",
      "┃   ┃   ┃   ┃   ┃   ┃               ┃           ┃       ┃   ┃\n",
      "┣   ╋   ╋   ╋   ╋   ╋   ╋━━━╋━━━╋━━━╋   ╋━━━╋━━━╋   ╋━━━╋   ┫\n",
      "┃   ┃       ┃       ┃   ┃       ┃       ┃           ┃   ┃   ┃\n",
      "┣   ╋━━━╋   ╋   ╋━━━╋   ╋   ╋━━━╋   ╋━━━╋   ╋━━━╋━━━╋   ╋   ┫\n",
      "┃       ┃   ┃               ┃       ┃                       ┃\n",
      "┣━━━╋   ╋   ╋   ╋━━━╋━━━╋━━━╋   ╋━━━╋   ╋━━━╋━━━╋━━━╋━━━╋━━━┫\n",
      "┃   ┃       ┃   ┃               ┃                       ┃   ┃\n",
      "┣   ╋━━━╋   ╋   ╋   ╋━━━╋━━━╋━━━╋   ╋━━━╋━━━╋━━━╋━━━╋━━━╋   ┫\n",
      "┃   ┃       ┃                                               ┃\n",
      "┣   ╋━━━╋   ╋   ╋━━━╋━━━╋━━━╋━━━╋━━━╋━━━╋━━━╋━━━╋━━━╋━━━╋━━━┫\n",
      "┃                                                           ┃\n",
      "┣━━━╋━━━╋━━━╋   ╋━━━╋━━━╋━━━╋   ╋━━━╋━━━╋━━━╋━━━╋   ╋━━━╋━━━┫\n",
      "┃                           ┃                   ┃           ┃\n",
      "┣   ╋━━━╋   ╋   ╋━━━╋━━━╋   ╋━━━╋   ╋━━━╋━━━╋━━━╋━━━╋━━━╋━━━┫\n",
      "┃   ┃       ┃           ┃       ┃                           ┃\n",
      "┣━━━╋━━━╋   ╋   ╋━━━╋   ╋━━━╋   ╋━━━╋━━━╋━━━╋━━━╋━━━╋━━━╋━━━┫\n",
      "┃           ┃       ┃       ┃                               ┃\n",
      "┗━━━┻━━━┻━━━┻━━━┻━━━┻━━━┻━━━┻━━━┻━━━┻━━━┻━━━┻━━━┻━━━┻━━━┻━━━┛\n",
      "\n"
     ]
    }
   ],
   "source": [
    "laby = Maze.gen_exploration(15,15)\n",
    "print(laby)"
   ]
  },
  {
   "cell_type": "code",
   "execution_count": 169,
   "id": "02a89f59",
   "metadata": {},
   "outputs": [
    {
     "name": "stdout",
     "output_type": "stream",
     "text": [
      "┏━━━┳━━━┳━━━┳━━━┳━━━┳━━━┳━━━┳━━━┳━━━┳━━━┳━━━┳━━━┓\n",
      "┃   ┃                       ┃   ┃               ┃\n",
      "┣   ╋━━━╋━━━╋━━━╋━━━╋   ╋━━━╋   ╋   ╋━━━╋━━━╋   ┫\n",
      "┃   ┃       ┃   ┃   ┃               ┃   ┃       ┃\n",
      "┣   ╋   ╋   ╋   ╋   ╋━━━╋━━━╋   ╋━━━╋   ╋━━━╋━━━┫\n",
      "┃       ┃   ┃                                   ┃\n",
      "┣   ╋━━━╋━━━╋━━━╋━━━╋━━━╋━━━╋   ╋   ╋━━━╋━━━╋   ┫\n",
      "┃   ┃           ┃               ┃           ┃   ┃\n",
      "┣   ╋━━━╋━━━╋   ╋━━━╋━━━╋   ╋━━━╋━━━╋   ╋━━━╋━━━┫\n",
      "┃           ┃   ┃       ┃   ┃   ┃   ┃       ┃   ┃\n",
      "┣━━━╋   ╋   ╋   ╋   ╋━━━╋━━━╋   ╋   ╋   ╋   ╋   ┫\n",
      "┃   ┃   ┃       ┃           ┃   ┃       ┃   ┃   ┃\n",
      "┣   ╋   ╋━━━╋   ╋━━━╋━━━╋   ╋   ╋━━━╋━━━╋   ╋   ┫\n",
      "┃       ┃                           ┃           ┃\n",
      "┣━━━╋━━━╋   ╋━━━╋   ╋━━━╋   ╋━━━╋━━━╋   ╋   ╋━━━┫\n",
      "┃           ┃   ┃       ┃       ┃       ┃       ┃\n",
      "┣━━━╋━━━╋━━━╋   ╋━━━╋   ╋━━━╋   ╋   ╋━━━╋   ╋━━━┫\n",
      "┃       ┃       ┃       ┃       ┃       ┃       ┃\n",
      "┣   ╋━━━╋   ╋━━━╋━━━╋━━━╋   ╋   ╋   ╋   ╋━━━╋   ┫\n",
      "┃   ┃                       ┃       ┃       ┃   ┃\n",
      "┣   ╋━━━╋   ╋━━━╋━━━╋━━━╋━━━╋   ╋━━━╋━━━╋━━━╋   ┫\n",
      "┃               ┃                           ┃   ┃\n",
      "┣   ╋━━━╋━━━╋   ╋━━━╋━━━╋━━━╋   ╋━━━╋   ╋━━━╋   ┫\n",
      "┃   ┃                   ┃       ┃       ┃       ┃\n",
      "┗━━━┻━━━┻━━━┻━━━┻━━━┻━━━┻━━━┻━━━┻━━━┻━━━┻━━━┻━━━┛\n",
      "\n"
     ]
    }
   ],
   "source": [
    "laby = Maze.gen_wilson(12, 12)\n",
    "print(laby)"
   ]
  },
  {
   "cell_type": "markdown",
   "id": "5d5607ae",
   "metadata": {},
   "source": [
    "## 6 Résolution"
   ]
  },
  {
   "cell_type": "markdown",
   "id": "d351673d",
   "metadata": {},
   "source": [
    "### 6.1 Résolution par parcours"
   ]
  },
  {
   "cell_type": "code",
   "execution_count": 170,
   "id": "461ba3ae",
   "metadata": {},
   "outputs": [
    {
     "name": "stdout",
     "output_type": "stream",
     "text": [
      "┏━━━┳━━━┳━━━┳━━━┳━━━┳━━━┳━━━┳━━━┳━━━┳━━━┳━━━┳━━━┳━━━┳━━━┳━━━┓\n",
      "┃ D     ┃   ┃   ┃   ┃           ┃                       ┃   ┃\n",
      "┣   ╋━━━╋   ╋   ╋   ╋━━━╋━━━╋   ╋━━━╋━━━╋   ╋━━━╋━━━╋━━━╋   ┫\n",
      "┃ * ┃   ┃       ┃   ┃               ┃   ┃                   ┃\n",
      "┣   ╋   ╋   ╋━━━╋   ╋   ╋   ╋   ╋━━━╋   ╋   ╋   ╋━━━╋━━━╋   ┫\n",
      "┃ *   *   *     ┃       ┃   ┃   ┃   ┃   ┃   ┃   ┃       ┃   ┃\n",
      "┣━━━╋━━━╋   ╋━━━╋   ╋   ╋   ╋━━━╋   ╋   ╋━━━╋━━━╋   ╋   ╋   ┫\n",
      "┃       ┃ *   * ┃   ┃   ┃       ┃               ┃   ┃   ┃   ┃\n",
      "┣   ╋━━━╋   ╋   ╋━━━╋   ╋━━━╋━━━╋━━━╋━━━╋   ╋   ╋   ╋━━━╋   ┫\n",
      "┃       ┃   ┃ *     ┃       ┃               ┃       ┃       ┃\n",
      "┣━━━╋   ╋━━━╋   ╋━━━╋   ╋   ╋━━━╋━━━╋   ╋   ╋━━━╋   ╋━━━╋   ┫\n",
      "┃         *   *     ┃   ┃       ┃       ┃   ┃               ┃\n",
      "┣━━━╋━━━╋   ╋━━━╋━━━╋━━━╋━━━╋   ╋   ╋━━━╋━━━╋━━━╋━━━╋   ╋━━━┫\n",
      "┃       ┃ *   * ┃           ┃       ┃       ┃               ┃\n",
      "┣━━━╋   ╋━━━╋   ╋━━━╋━━━╋   ╋━━━╋   ╋━━━╋   ╋━━━╋━━━╋   ╋━━━┫\n",
      "┃   ┃   ┃     *   * ┃       ┃   ┃           ┃       ┃       ┃\n",
      "┣   ╋   ╋   ╋   ╋   ╋━━━╋   ╋   ╋━━━╋   ╋━━━╋   ╋   ╋━━━╋━━━┫\n",
      "┃       ┃   ┃   ┃ *   *     ┃       ┃   ┃       ┃   ┃       ┃\n",
      "┣   ╋━━━╋   ╋   ╋━━━╋   ╋━━━╋━━━╋   ╋   ╋   ╋━━━╋   ╋   ╋━━━┫\n",
      "┃   ┃       ┃       ┃ *   * ┃           ┃   ┃   ┃   ┃       ┃\n",
      "┣   ╋   ╋━━━╋━━━╋   ╋━━━╋   ╋   ╋   ╋   ╋   ╋   ╋━━━╋   ╋━━━┫\n",
      "┃   ┃   ┃   ┃       ┃     *     ┃   ┃   ┃       ┃       ┃   ┃\n",
      "┣   ╋━━━╋   ╋   ╋━━━╋━━━╋   ╋━━━╋━━━╋━━━╋━━━╋   ╋   ╋   ╋   ┫\n",
      "┃                   ┃   ┃ *     ┃                   ┃   ┃   ┃\n",
      "┣   ╋━━━╋   ╋   ╋   ╋   ╋   ╋━━━╋   ╋━━━╋━━━╋   ╋━━━╋━━━╋   ┫\n",
      "┃   ┃       ┃   ┃       ┃ * ┃   ┃   ┃         *   * ┃   ┃   ┃\n",
      "┣━━━╋   ╋━━━╋   ╋━━━╋━━━╋   ╋   ╋━━━╋━━━╋━━━╋   ╋   ╋   ╋   ┫\n",
      "┃           ┃   ┃         *   *   *   *   *   * ┃ * ┃ *   * ┃\n",
      "┣   ╋   ╋━━━╋   ╋   ╋   ╋━━━╋━━━╋   ╋━━━╋━━━╋━━━╋   ╋   ╋   ┫\n",
      "┃   ┃       ┃   ┃   ┃       ┃           ┃         *   * ┃ A ┃\n",
      "┗━━━┻━━━┻━━━┻━━━┻━━━┻━━━┻━━━┻━━━┻━━━┻━━━┻━━━┻━━━┻━━━┻━━━┻━━━┛\n",
      "\n"
     ]
    }
   ],
   "source": [
    "laby = Maze.gen_fusion(15, 15)\n",
    "solution = laby.solve_dfs((0, 0), (14, 14))\n",
    "str_solution = {c:'*' for c in solution}\n",
    "str_solution[( 0,  0)] = 'D'\n",
    "str_solution[(14, 14)] = 'A'\n",
    "print(laby.overlay(str_solution))"
   ]
  },
  {
   "cell_type": "code",
   "execution_count": 171,
   "id": "3434ad60",
   "metadata": {},
   "outputs": [
    {
     "name": "stdout",
     "output_type": "stream",
     "text": [
      "┏━━━┳━━━┳━━━┳━━━┳━━━┳━━━┳━━━┳━━━┳━━━┳━━━┳━━━┳━━━┳━━━┳━━━┳━━━┓\n",
      "┃ D ┃                       ┃           ┃   ┃   ┃   ┃   ┃   ┃\n",
      "┣   ╋━━━╋━━━╋━━━╋━━━╋━━━╋   ╋━━━╋━━━╋   ╋   ╋   ╋   ╋   ╋   ┫\n",
      "┃ * ┃                   ┃           ┃   ┃   ┃   ┃   ┃   ┃   ┃\n",
      "┣   ╋━━━╋━━━╋━━━╋━━━╋   ╋━━━╋━━━╋   ╋   ╋   ╋   ╋   ╋   ╋   ┫\n",
      "┃ * ┃   ┃           ┃   ┃   ┃       ┃       ┃   ┃   ┃   ┃   ┃\n",
      "┣   ╋   ╋━━━╋━━━╋   ╋   ╋   ╋━━━╋   ╋━━━╋   ╋   ╋   ╋   ╋   ┫\n",
      "┃ * ┃       ┃   ┃   ┃   ┃       ┃       ┃   ┃   ┃   ┃   ┃   ┃\n",
      "┣   ╋━━━╋   ╋   ╋   ╋   ╋━━━╋   ╋━━━╋   ╋   ╋   ╋   ╋   ╋   ┫\n",
      "┃ *   * ┃   ┃   ┃   ┃   ┃   ┃   ┃       ┃   ┃       ┃   ┃   ┃\n",
      "┣━━━╋   ╋   ╋   ╋   ╋   ╋   ╋   ╋━━━╋   ╋   ╋   ╋━━━╋   ╋   ┫\n",
      "┃   ┃ * ┃       ┃           ┃       ┃   ┃   ┃           ┃   ┃\n",
      "┣   ╋   ╋━━━╋   ╋━━━╋━━━╋   ╋━━━╋   ╋   ╋   ╋   ╋━━━╋━━━╋   ┫\n",
      "┃   ┃ * ┃   ┃       ┃   ┃       ┃       ┃   ┃   ┃       ┃   ┃\n",
      "┣   ╋   ╋   ╋━━━╋   ╋   ╋━━━╋   ╋━━━╋   ╋   ╋   ╋   ╋━━━╋   ┫\n",
      "┃   ┃ *   *   * ┃   ┃               ┃   ┃   ┃   ┃           ┃\n",
      "┣   ╋━━━╋━━━╋   ╋   ╋━━━╋━━━╋━━━╋   ╋   ╋   ╋   ╋   ╋━━━╋━━━┫\n",
      "┃   ┃       ┃ * ┃               ┃   ┃       ┃   ┃   ┃   ┃   ┃\n",
      "┣   ╋━━━╋   ╋   ╋━━━╋━━━╋━━━╋   ╋   ╋━━━╋   ╋   ╋   ╋   ╋   ┫\n",
      "┃   ┃   ┃     *   *   *   *   *   *   * ┃   ┃   ┃       ┃   ┃\n",
      "┣   ╋   ╋━━━╋━━━╋━━━╋━━━╋━━━╋━━━╋━━━╋   ╋   ╋   ╋   ╋━━━╋   ┫\n",
      "┃                                   ┃ * ┃   ┃   ┃   ┃       ┃\n",
      "┣━━━╋━━━╋━━━╋━━━╋━━━╋━━━╋━━━╋━━━╋   ╋   ╋   ╋   ╋   ╋   ╋━━━┫\n",
      "┃                               ┃   ┃ *   *                 ┃\n",
      "┣━━━╋━━━╋━━━╋━━━╋━━━╋━━━╋━━━╋   ╋   ╋━━━╋   ╋━━━╋━━━╋━━━╋   ┫\n",
      "┃                                         *   *         ┃   ┃\n",
      "┣━━━╋━━━╋━━━╋━━━╋━━━╋━━━╋━━━╋━━━╋━━━╋   ╋   ╋   ╋━━━╋   ╋━━━┫\n",
      "┃                                       ┃   ┃ *     ┃       ┃\n",
      "┣━━━╋━━━╋━━━╋━━━╋━━━╋━━━╋━━━╋━━━╋   ╋━━━╋   ╋   ╋━━━╋━━━╋━━━┫\n",
      "┃                                   ┃       ┃ *   *   *   A ┃\n",
      "┗━━━┻━━━┻━━━┻━━━┻━━━┻━━━┻━━━┻━━━┻━━━┻━━━┻━━━┻━━━┻━━━┻━━━┻━━━┛\n",
      "\n"
     ]
    }
   ],
   "source": [
    "laby = Maze.gen_exploration(15, 15)\n",
    "solution = laby.solve_bfs((0, 0), (14, 14))\n",
    "str_solution = {c:'*' for c in solution}\n",
    "str_solution[( 0,  0)] = 'D'\n",
    "str_solution[(14, 14)] = 'A'\n",
    "print(laby.overlay(str_solution))"
   ]
  },
  {
   "cell_type": "markdown",
   "id": "ecdb8e3b",
   "metadata": {},
   "source": [
    "### 6.2 Résolution en aveugle : « la main droite »"
   ]
  },
  {
   "cell_type": "code",
   "execution_count": 172,
   "id": "0464dcf8",
   "metadata": {},
   "outputs": [
    {
     "name": "stdout",
     "output_type": "stream",
     "text": [
      "┏━━━┳━━━┳━━━┳━━━┳━━━┳━━━┳━━━┳━━━┳━━━┳━━━┳━━━┳━━━┳━━━┳━━━┳━━━┓\n",
      "┃ D ┃           ┃                                           ┃\n",
      "┣   ╋   ╋━━━╋━━━╋   ╋━━━╋━━━╋━━━╋━━━╋━━━╋━━━╋━━━╋━━━╋━━━╋━━━┫\n",
      "┃   ┃   ┃           ┃                                       ┃\n",
      "┣   ╋   ╋   ╋━━━╋━━━╋   ╋━━━╋━━━╋━━━╋━━━╋━━━╋━━━╋━━━╋━━━╋━━━┫\n",
      "┃   ┃   ┃   ┃                           ┃                   ┃\n",
      "┣   ╋   ╋   ╋   ╋━━━╋━━━╋━━━╋━━━╋━━━╋━━━╋   ╋━━━╋━━━╋━━━╋━━━┫\n",
      "┃   ┃       ┃   ┃                                       ┃   ┃\n",
      "┣   ╋   ╋━━━╋   ╋   ╋━━━╋━━━╋━━━╋━━━╋━━━╋━━━╋━━━╋━━━╋━━━╋   ┫\n",
      "┃   ┃           ┃   ┃                                       ┃\n",
      "┣   ╋   ╋━━━╋━━━╋   ╋   ╋━━━╋━━━╋━━━╋━━━╋━━━╋━━━╋━━━╋━━━╋━━━┫\n",
      "┃           ┃       ┃   ┃                                   ┃\n",
      "┣━━━╋   ╋━━━╋   ╋━━━╋   ╋   ╋━━━╋━━━╋━━━╋━━━╋━━━╋━━━╋━━━╋━━━┫\n",
      "┃                                                           ┃\n",
      "┣━━━╋   ╋━━━╋━━━╋━━━╋━━━╋━━━╋━━━╋━━━╋━━━╋━━━╋━━━╋━━━╋━━━╋━━━┫\n",
      "┃                                                           ┃\n",
      "┣   ╋   ╋   ╋━━━╋━━━╋   ╋   ╋━━━╋━━━╋━━━╋   ╋━━━╋   ╋━━━╋   ┫\n",
      "┃   ┃   ┃           ┃   ┃               ┃       ┃       ┃   ┃\n",
      "┣   ╋   ╋   ╋   ╋   ╋━━━╋   ╋━━━╋━━━╋   ╋━━━╋   ╋━━━╋━━━╋   ┫\n",
      "┃   ┃   ┃   ┃   ┃       ┃           ┃       ┃           ┃   ┃\n",
      "┣   ╋   ╋   ╋   ╋━━━╋━━━╋━━━╋━━━╋   ╋━━━╋   ╋━━━╋━━━╋━━━╋   ┫\n",
      "┃   ┃   ┃   ┃                   ┃       ┃               ┃   ┃\n",
      "┣   ╋   ╋   ╋━━━╋   ╋   ╋━━━╋   ╋━━━╋   ╋━━━╋━━━╋━━━╋   ╋   ┫\n",
      "┃   ┃   ┃       ┃   ┃       ┃       ┃               ┃   ┃   ┃\n",
      "┣   ╋   ╋━━━╋   ╋   ╋━━━╋━━━╋━━━╋   ╋━━━╋━━━╋   ╋   ╋   ╋   ┫\n",
      "┃   ┃       ┃   ┃               ┃           ┃   ┃   ┃   ┃   ┃\n",
      "┣   ╋   ╋   ╋   ╋━━━╋━━━╋━━━╋━━━╋━━━╋   ╋   ╋   ╋━━━╋━━━╋━━━┫\n",
      "┃   ┃   ┃   ┃                       ┃   ┃   ┃               ┃\n",
      "┣   ╋   ╋   ╋━━━╋━━━╋━━━╋━━━╋━━━╋   ╋   ╋━━━╋━━━╋━━━╋━━━╋━━━┫\n",
      "┃   ┃   ┃                       ┃   ┃                     A ┃\n",
      "┗━━━┻━━━┻━━━┻━━━┻━━━┻━━━┻━━━┻━━━┻━━━┻━━━┻━━━┻━━━┻━━━┻━━━┻━━━┛\n",
      "\n"
     ]
    }
   ],
   "source": [
    "laby = Maze.gen_exploration(15, 15)\n",
    "solution = laby.solve_rhr((0, 0), (14, 14))\n",
    "str_solution = {c:'*' for c in solution}\n",
    "str_solution[( 0,  0)] = 'D'\n",
    "str_solution[(14, 14)] = 'A'\n",
    "print(laby.overlay(str_solution))"
   ]
  },
  {
   "cell_type": "markdown",
   "id": "c8820853",
   "metadata": {},
   "source": [
    "### 7 Évaluation"
   ]
  },
  {
   "cell_type": "code",
   "execution_count": 193,
   "id": "8abc55e1",
   "metadata": {},
   "outputs": [
    {
     "name": "stdout",
     "output_type": "stream",
     "text": [
      "┏━━━┳━━━┳━━━┳━━━┳━━━┳━━━┳━━━┳━━━┳━━━┳━━━┳━━━┳━━━┳━━━┳━━━┳━━━┓\n",
      "┃ D   *   *   *   *   *   *   *   *   * ┃       ┃   ┃   ┃   ┃\n",
      "┣━━━╋━━━╋━━━╋━━━╋━━━╋━━━╋━━━╋━━━╋━━━╋   ╋━━━╋   ╋   ╋   ╋   ┫\n",
      "┃           ┃           ┃           ┃ * ┃   ┃   ┃   ┃   ┃   ┃\n",
      "┣━━━╋━━━╋   ╋━━━╋━━━╋   ╋━━━╋━━━╋   ╋   ╋   ╋   ╋   ╋   ╋   ┫\n",
      "┃   ┃   ┃   ┃       ┃       ┃   ┃   ┃ *   * ┃   ┃   ┃   ┃   ┃\n",
      "┣   ╋   ╋   ╋━━━╋   ╋━━━╋   ╋   ╋   ╋━━━╋   ╋   ╋   ╋   ╋   ┫\n",
      "┃   ┃   ┃   ┃   ┃   ┃   ┃   ┃   ┃       ┃ * ┃   ┃   ┃       ┃\n",
      "┣   ╋   ╋   ╋   ╋   ╋   ╋   ╋   ╋━━━╋   ╋   ╋   ╋   ╋━━━╋   ┫\n",
      "┃   ┃       ┃   ┃   ┃           ┃   ┃   ┃ * ┃   ┃   ┃   ┃   ┃\n",
      "┣   ╋━━━╋   ╋   ╋   ╋━━━╋━━━╋   ╋   ╋   ╋   ╋   ╋   ╋   ╋   ┫\n",
      "┃       ┃       ┃           ┃   ┃   ┃   ┃ * ┃   ┃       ┃   ┃\n",
      "┣━━━╋   ╋━━━╋   ╋━━━╋━━━╋   ╋   ╋   ╋   ╋   ╋   ╋━━━╋   ╋   ┫\n",
      "┃   ┃       ┃               ┃       ┃   ┃ * ┃       ┃       ┃\n",
      "┣   ╋━━━╋   ╋━━━╋━━━╋━━━╋   ╋━━━╋   ╋   ╋   ╋━━━╋   ╋━━━╋   ┫\n",
      "┃   ┃           ┃       ┃   ┃   ┃   ┃     *   * ┃           ┃\n",
      "┣   ╋━━━╋━━━╋   ╋━━━╋   ╋   ╋   ╋   ╋━━━╋━━━╋   ╋━━━╋━━━╋   ┫\n",
      "┃       ┃           ┃   ┃   ┃   ┃           ┃ *   * ┃   ┃   ┃\n",
      "┣━━━╋   ╋━━━╋━━━╋   ╋   ╋   ╋   ╋━━━╋━━━╋   ╋━━━╋   ╋   ╋   ┫\n",
      "┃   ┃       ┃   ┃   ┃   ┃       ┃       ┃       ┃ *   * ┃   ┃\n",
      "┣   ╋━━━╋   ╋   ╋   ╋   ╋━━━╋   ╋━━━╋   ╋━━━╋   ╋━━━╋   ╋   ┫\n",
      "┃   ┃       ┃       ┃                   ┃   ┃         * ┃   ┃\n",
      "┣   ╋━━━╋   ╋━━━╋   ╋━━━╋━━━╋━━━╋━━━╋   ╋   ╋━━━╋━━━╋   ╋   ┫\n",
      "┃       ┃       ┃                                   ┃ *   * ┃\n",
      "┣━━━╋   ╋━━━╋   ╋━━━╋━━━╋━━━╋━━━╋━━━╋━━━╋━━━╋━━━╋   ╋━━━╋   ┫\n",
      "┃   ┃                                                     * ┃\n",
      "┣   ╋━━━╋━━━╋━━━╋━━━╋━━━╋━━━╋━━━╋━━━╋━━━╋━━━╋   ╋━━━╋━━━╋   ┫\n",
      "┃                                               ┃         * ┃\n",
      "┣━━━╋━━━╋━━━╋━━━╋━━━╋━━━╋━━━╋━━━╋━━━╋━━━╋━━━╋━━━╋   ╋━━━╋   ┫\n",
      "┃                                                   ┃     A ┃\n",
      "┗━━━┻━━━┻━━━┻━━━┻━━━┻━━━┻━━━┻━━━┻━━━┻━━━┻━━━┻━━━┻━━━┻━━━┻━━━┛\n",
      "\n",
      "Il faut 29 cases pour résoudre le labyrinthe.\n"
     ]
    }
   ],
   "source": [
    "laby = Maze.gen_exploration(15, 15)\n",
    "solution = laby.distance_geo((0, 0), (14, 14))\n",
    "print(f\"Il faut {solution} cases pour résoudre le labyrinthe.\")"
   ]
  },
  {
   "cell_type": "code",
   "execution_count": 195,
   "id": "8add55af",
   "metadata": {},
   "outputs": [
    {
     "name": "stdout",
     "output_type": "stream",
     "text": [
      "Il faut 28 cases pour résoudre le labyrinthe.\n"
     ]
    }
   ],
   "source": [
    "laby = Maze.gen_exploration(15, 15)\n",
    "solution = laby.distance_man((0, 0), (14, 14))\n",
    "print(f\"Il faut {solution} cases pour résoudre le labyrinthe.\")"
   ]
  },
  {
   "cell_type": "code",
   "execution_count": 197,
   "id": "33447db6",
   "metadata": {},
   "outputs": [
    {
     "name": "stdout",
     "output_type": "stream",
     "text": [
      "┏━━━┳━━━┳━━━┳━━━┳━━━┳━━━┳━━━┳━━━┳━━━┳━━━┳━━━┳━━━┳━━━┳━━━┳━━━┓\n",
      "┃   ┃           ┃                                       ┃   ┃\n",
      "┣   ╋━━━╋━━━╋   ╋━━━╋━━━╋━━━╋━━━╋━━━╋━━━╋━━━╋━━━╋━━━╋   ╋   ┫\n",
      "┃   ┃   ┃   ┃       ┃           ┃           ┃   ┃   ┃   ┃   ┃\n",
      "┣   ╋   ╋   ╋━━━╋   ╋━━━╋━━━╋   ╋━━━╋━━━╋   ╋   ╋   ╋   ╋   ┫\n",
      "┃   ┃   ┃       ┃   ┃   ┃           ┃   ┃   ┃   ┃       ┃   ┃\n",
      "┣   ╋   ╋━━━╋   ╋   ╋   ╋━━━╋━━━╋   ╋   ╋   ╋   ╋━━━╋   ╋   ┫\n",
      "┃   ┃   ┃   ┃   ┃   ┃           ┃   ┃   ┃   ┃           ┃   ┃\n",
      "┣   ╋   ╋   ╋   ╋   ╋━━━╋━━━╋   ╋   ╋   ╋   ╋━━━╋━━━╋   ╋   ┫\n",
      "┃   ┃       ┃               ┃   ┃       ┃           ┃   ┃   ┃\n",
      "┣   ╋━━━╋   ╋━━━╋━━━╋━━━╋   ╋   ╋━━━╋   ╋━━━╋━━━╋   ╋   ╋   ┫\n",
      "┃   ┃   ┃               ┃           ┃   ┃       ┃   ┃   ┃   ┃\n",
      "┣   ╋   ╋━━━╋━━━╋━━━╋   ╋━━━╋━━━╋   ╋   ╋━━━╋   ╋   ╋   ╋   ┫\n",
      "┃       ┃           ┃       ┃   ┃   ┃   ┃   ┃   ┃           ┃\n",
      "┣━━━╋   ╋━━━╋━━━╋   ╋━━━╋   ╋   ╋   ╋   ╋   ╋   ╋━━━╋━━━╋   ┫\n",
      "┃   ┃   ┃   ┃       ┃       ┃       ┃               ┃   ┃   ┃\n",
      "┣   ╋   ╋   ╋━━━╋   ╋━━━╋   ╋━━━╋   ╋━━━╋━━━╋━━━╋   ╋   ╋   ┫\n",
      "┃   ┃   ┃       ┃       ┃       ┃   ┃           ┃   ┃       ┃\n",
      "┣   ╋   ╋━━━╋   ╋━━━╋   ╋━━━╋   ╋   ╋━━━╋━━━╋   ╋   ╋━━━╋   ┫\n",
      "┃   ┃                       ┃   ┃               ┃       ┃   ┃\n",
      "┣   ╋━━━╋━━━╋━━━╋━━━╋━━━╋   ╋   ╋━━━╋━━━╋━━━╋   ╋━━━╋   ╋   ┫\n",
      "┃       ┃               ┃   ┃               ┃           ┃   ┃\n",
      "┣━━━╋   ╋━━━╋━━━╋━━━╋   ╋   ╋━━━╋━━━╋━━━╋   ╋━━━╋━━━╋   ╋   ┫\n",
      "┃   ┃           ┃   ┃                               ┃   ┃   ┃\n",
      "┣   ╋━━━╋━━━╋   ╋   ╋━━━╋━━━╋━━━╋━━━╋━━━╋━━━╋━━━╋   ╋   ╋   ┫\n",
      "┃   ┃                           ┃   ┃               ┃   ┃   ┃\n",
      "┣   ╋━━━╋━━━╋━━━╋━━━╋━━━╋━━━╋   ╋   ╋━━━╋━━━╋━━━╋   ╋   ╋   ┫\n",
      "┃                           ┃   ┃                   ┃       ┃\n",
      "┣━━━╋━━━╋━━━╋━━━╋━━━╋━━━╋   ╋   ╋━━━╋━━━╋━━━╋━━━╋   ╋━━━╋   ┫\n",
      "┃                                                           ┃\n",
      "┗━━━┻━━━┻━━━┻━━━┻━━━┻━━━┻━━━┻━━━┻━━━┻━━━┻━━━┻━━━┻━━━┻━━━┻━━━┛\n",
      "\n",
      "Il y a 32 cul-de-sac.\n"
     ]
    }
   ],
   "source": [
    "laby = Maze.gen_exploration(15, 15)\n",
    "print(laby)\n",
    "print(f\"Il y a {laby.dead_end_number()} cul-de-sac.\")"
   ]
  }
 ],
 "metadata": {
  "kernelspec": {
   "display_name": "Python 3 (ipykernel)",
   "language": "python",
   "name": "python3"
  },
  "language_info": {
   "codemirror_mode": {
    "name": "ipython",
    "version": 3
   },
   "file_extension": ".py",
   "mimetype": "text/x-python",
   "name": "python",
   "nbconvert_exporter": "python",
   "pygments_lexer": "ipython3",
   "version": "3.8.10"
  }
 },
 "nbformat": 4,
 "nbformat_minor": 5
}
